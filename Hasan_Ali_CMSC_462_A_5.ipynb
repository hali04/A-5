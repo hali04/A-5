{
 "cells": [
  {
   "cell_type": "markdown",
   "id": "ebee71cd",
   "metadata": {},
   "source": [
    "# HASAN ALI\n",
    "# CMSC 462                                        A-5\n",
    "# December 1, 2023\n",
    "# hali4@umbc.edu\n",
    "# UM81934"
   ]
  },
  {
   "cell_type": "markdown",
   "id": "60c0dce1",
   "metadata": {},
   "source": [
    "## Libraries"
   ]
  },
  {
   "cell_type": "code",
   "execution_count": 1,
   "id": "15397f0e",
   "metadata": {},
   "outputs": [],
   "source": [
    "#The following command resets the environment\n",
    "from IPython.core.display import HTML\n",
    "HTML(\"<script>Jupyter.notebook.kernel.restart()</script>\")\n",
    "\n",
    "# If you get error no module named pymogo\n",
    "# !python -m pip install pymongo\n",
    "\n",
    "from pymongo import MongoClient\n",
    "import pymongo\n",
    "import pandas as pd\n",
    "import re"
   ]
  },
  {
   "cell_type": "markdown",
   "id": "0b76968e",
   "metadata": {},
   "source": [
    "## Connecting to MongoDB"
   ]
  },
  {
   "cell_type": "code",
   "execution_count": 2,
   "id": "76b9ff02",
   "metadata": {},
   "outputs": [
    {
     "name": "stdout",
     "output_type": "stream",
     "text": [
      "Successfully connected and deleted the Database if it already existed\n"
     ]
    }
   ],
   "source": [
    "try:\n",
    "    client = MongoClient(\"mongodb://localhost:27017/\")\n",
    "    client.drop_database(\"HA_CMSC462_A5_DB\")\n",
    "    print(\"Successfully connected and deleted the Database if it already existed\")\n",
    "except Exception as e:\n",
    "    print(e)"
   ]
  },
  {
   "cell_type": "code",
   "execution_count": 3,
   "id": "7c59a7fd",
   "metadata": {},
   "outputs": [
    {
     "name": "stdout",
     "output_type": "stream",
     "text": [
      "Database created successfully\n"
     ]
    }
   ],
   "source": [
    "try:\n",
    "    #Create database\n",
    "    db=client.get_database(\"HA_CMSC462_A5_DB\")\n",
    "    print(\"Database created successfully\")\n",
    "except Exception as e:\n",
    "    print(e)\n",
    "    "
   ]
  },
  {
   "cell_type": "code",
   "execution_count": 4,
   "id": "b89672a2",
   "metadata": {},
   "outputs": [
    {
     "data": {
      "text/plain": [
       "[]"
      ]
     },
     "execution_count": 4,
     "metadata": {},
     "output_type": "execute_result"
    }
   ],
   "source": [
    "#this would list an empty list, since no data in the collection\n",
    "db.list_collection_names()"
   ]
  },
  {
   "cell_type": "markdown",
   "id": "9dccea59",
   "metadata": {},
   "source": [
    "## Reading movies.csv file"
   ]
  },
  {
   "cell_type": "code",
   "execution_count": 5,
   "id": "d985a8ff",
   "metadata": {},
   "outputs": [],
   "source": [
    "# Read movies.csv into a DataFrame\n",
    "movies_df = pd.read_csv('movies.csv') \n",
    "\n",
    "# Insert movies into MongoDB\n",
    "movies_collection = db['Movies']\n",
    "\n",
    "for index, row in movies_df.iterrows():\n",
    "    movie_data = {\n",
    "        'Movie ID': row['movieId'],\n",
    "        'Title': row['title'], \n",
    "        'Genres': row['genres']\n",
    "    }\n",
    "    movies_collection.insert_one(movie_data)"
   ]
  },
  {
   "cell_type": "markdown",
   "id": "e6ac2673",
   "metadata": {},
   "source": [
    "## Reading ratings.csv file"
   ]
  },
  {
   "cell_type": "code",
   "execution_count": 6,
   "id": "4145aa3f",
   "metadata": {},
   "outputs": [],
   "source": [
    "# Read ratings.csv into a DataFrame \n",
    "ratings_df = pd.read_csv('ratings.csv')\n",
    "\n",
    "# Insert ratings into MongoDB\n",
    "ratings_collection = db['Ratings'] \n",
    "\n",
    "for index, row in ratings_df.iterrows():\n",
    "    rating_data = {\n",
    "        'User ID': row['userId'],\n",
    "        'Movie ID': row['movieId'],\n",
    "        'Rating': row['rating'],\n",
    "        'Time Stamp': row['timestamp']\n",
    "    }\n",
    "    ratings_collection.insert_one(rating_data)"
   ]
  },
  {
   "cell_type": "markdown",
   "id": "36178968",
   "metadata": {},
   "source": [
    "## Reading tags.csv (for some reason, reading and inserting tag.csv takes time on mongodb. It will eventually show up after 10 -20 seconds)"
   ]
  },
  {
   "cell_type": "code",
   "execution_count": 7,
   "id": "f382862a",
   "metadata": {},
   "outputs": [],
   "source": [
    "# Read tags.csv into a DataFrame \n",
    "tags_df = pd.read_csv('tags.csv')\n",
    "\n",
    "# Insert ratings into MongoDB\n",
    "tags_collection = db['Tags'] \n",
    "\n",
    "for index, row in tags_df.iterrows():\n",
    "    tags_data = {\n",
    "        'User ID': row['userId'],\n",
    "        'Movie ID': row['movieId'],\n",
    "        'Tag': row['tag'],\n",
    "        'Time Stamp': row['timestamp']\n",
    "    }\n",
    "    tags_collection.insert_one(tags_data)"
   ]
  },
  {
   "cell_type": "markdown",
   "id": "8d79707e",
   "metadata": {},
   "source": [
    "## Inserting my own movies into Movies collection"
   ]
  },
  {
   "cell_type": "code",
   "execution_count": 8,
   "id": "0e99e5ad",
   "metadata": {},
   "outputs": [
    {
     "name": "stdout",
     "output_type": "stream",
     "text": [
      "Movie does not exist. Adding to the Movies collection\n",
      "Movie does not exist. Adding to the Movies collection\n",
      "Movie does not exist. Adding to the Movies collection\n",
      "Movie does not exist. Adding to the Movies collection\n",
      "Movie does not exist. Adding to the Movies collection\n"
     ]
    }
   ],
   "source": [
    "# I checked in the movies.csv and found no mention of the movies I am add in this section.\n",
    "# So these movies are unique to the .csv file\n",
    "my_movie_1 = {'Movie ID': '193700', 'Title': 'Kabhi Khushi Kabhie Gham (2001)', \n",
    "              'Genres': 'Romance|Drama|Comedy|Family Drama'}\n",
    "my_movie_2 = { \"Movie ID\": \"193800\", \"Title\": \"Kal Ho Naa Ho (2003)\", \"Genres\": \"Romance|Drama|Comedy|Tragedy\"}\n",
    "my_movie_3 = {\"Movie ID\": \"193900\", \"Title\": \"Fanaa (2006)\", \"Genres\": \"Thriller|Romance|Crime Fiction\"}\n",
    "my_movie_4 = {\"Movie ID\": \"194000\", \"Title\": \"Taare Zameen Par (2007)\", \"Genres\": \"Comedy|Melodrama|Children's Film\"}\n",
    "my_movie_5 = {\"Movie ID\": \"194100\", \"Title\": \"Phir Hera Pheri (2006)\",\"Genres\": \"Comedy|Thriller|Crime Fiction\"}\n",
    "\n",
    "movie_1 = movies_collection.find_one({\"Movie ID\": \"193700\"})\n",
    "movie_2 = movies_collection.find_one({\"Movie ID\": \"193800\"})\n",
    "movie_3 = movies_collection.find_one({\"Movie ID\": \"193900\"})\n",
    "movie_4 = movies_collection.find_one({\"Movie ID\": \"194000\"})\n",
    "movie_5 = movies_collection.find_one({\"Movie ID\": \"194100\"})\n",
    "\n",
    "# Edge cases so I dont insert the same movie more than once\n",
    "if movie_1:\n",
    "    print(\"Movie already exists\")\n",
    "else:\n",
    "    print(\"Movie does not exist. Adding to the Movies collection\")\n",
    "    movies_collection.insert_one(my_movie_1)\n",
    "\n",
    "if movie_2:\n",
    "    print(\"Movie already exists\")\n",
    "else:\n",
    "    print(\"Movie does not exist. Adding to the Movies collection\")\n",
    "    movies_collection.insert_one(my_movie_2)\n",
    "    \n",
    "if movie_3:\n",
    "    print(\"Movie already exists\")\n",
    "else:\n",
    "    print(\"Movie does not exist. Adding to the Movies collection\")\n",
    "    movies_collection.insert_one(my_movie_3)\n",
    "    \n",
    "if movie_4:\n",
    "    print(\"Movie already exists\")\n",
    "else:\n",
    "    print(\"Movie does not exist. Adding to the Movies collection\")\n",
    "    movies_collection.insert_one(my_movie_4)\n",
    "    \n",
    "if movie_5:\n",
    "    print(\"Movie already exists\")\n",
    "else:\n",
    "    print(\"Movie does not exist. Adding to the Movies collection\")\n",
    "    movies_collection.insert_one(my_movie_5)"
   ]
  },
  {
   "cell_type": "code",
   "execution_count": 9,
   "id": "7c85922c",
   "metadata": {},
   "outputs": [
    {
     "name": "stdout",
     "output_type": "stream",
     "text": [
      "Movie ID: 193700\n",
      "Title: Kabhi Khushi Kabhie Gham (2001)\n",
      "Genre: Romance|Drama|Comedy|Family Drama\n"
     ]
    }
   ],
   "source": [
    "# Printing the first movie I added in the movie collection to show its in the database.\n",
    "movie_1 = movies_collection.find_one({\"Movie ID\": \"193700\"})\n",
    "\n",
    "print(\"Movie ID:\", movie_1[\"Movie ID\"])\n",
    "print(\"Title:\", movie_1[\"Title\"]) \n",
    "print(\"Genre:\", movie_1[\"Genres\"])"
   ]
  },
  {
   "cell_type": "markdown",
   "id": "e2e35064",
   "metadata": {},
   "source": [
    "## Inserting my own ratings into Ratings collection"
   ]
  },
  {
   "cell_type": "code",
   "execution_count": 10,
   "id": "1097ddee",
   "metadata": {},
   "outputs": [],
   "source": [
    "# Creating my ratings for the five movies\n",
    "my_rating_1 = {'User ID': '690', 'Movie ID': '193700', 'Rating': '5.0', 'Time Stamp': '1493855270'}\n",
    "my_rating_2 = {'User ID': '690', 'Movie ID': '193800', 'Rating': '5.0', 'Time Stamp': '1499944270'}\n",
    "my_rating_3 = {'User ID': '690', 'Movie ID': '193900', 'Rating': '5.0', 'Time Stamp': '1687844270'}\n",
    "my_rating_4 = {'User ID': '690', 'Movie ID': '194000', 'Rating': '5.0', 'Time Stamp': '1473144270'}\n",
    "my_rating_5 = {'User ID': '690', 'Movie ID': '194100', 'Rating': '5.0', 'Time Stamp': '1479964270'}\n",
    "\n",
    "ratings_list = [my_rating_1, my_rating_2, my_rating_3, my_rating_4, my_rating_5]\n",
    "\n",
    "for item in ratings_list:\n",
    "    ratings_collection.insert_one(item)"
   ]
  },
  {
   "cell_type": "code",
   "execution_count": 11,
   "id": "12764307",
   "metadata": {},
   "outputs": [
    {
     "name": "stdout",
     "output_type": "stream",
     "text": [
      "UserID: 690\n",
      "Movie ID: 193700\n",
      "Rating: 5.0\n",
      "Time Stamp: 1493855270\n"
     ]
    }
   ],
   "source": [
    "# Printing the rating for the first movie I added in the rating collection to show its in the database.\n",
    "rating_1 = ratings_collection.find_one({\"Movie ID\": \"193700\"})\n",
    "\n",
    "print(\"UserID:\", rating_1[\"User ID\"])\n",
    "print(\"Movie ID:\", rating_1[\"Movie ID\"]) \n",
    "print(\"Rating:\", rating_1[\"Rating\"])\n",
    "print(\"Time Stamp:\", rating_1[\"Time Stamp\"])"
   ]
  },
  {
   "cell_type": "markdown",
   "id": "59ce0f0a",
   "metadata": {},
   "source": [
    "## Inserting my own tags into Tags collection"
   ]
  },
  {
   "cell_type": "code",
   "execution_count": 12,
   "id": "c36e482c",
   "metadata": {},
   "outputs": [],
   "source": [
    "# Creating my own tags for each movie. Not checking if the tag already exist in this case.\n",
    "my_tag_1 = {'User ID': '690', 'Movie ID': '193700', 'Tag': 'Love Story', 'Time Stamp': '1493855270'}\n",
    "my_tag_2 = {'User ID': '690', 'Movie ID': '193700', 'Tag': 'Shah Rukh Khan', 'Time Stamp': '1633844270'}\n",
    "my_tag_3 = {'User ID': '690', 'Movie ID': '193700', 'Tag': 'Funny', 'Time Stamp': '1499685270'}\n",
    "\n",
    "my_tag_4 = {'User ID': '690', 'Movie ID': '193800', 'Tag': 'Shah Rukh Khan', 'Time Stamp': '1499944270'}\n",
    "my_tag_5 = {'User ID': '690', 'Movie ID': '193800', 'Tag': 'Funny', 'Time Stamp': '1493844278'}\n",
    "my_tag_6 = {'User ID': '690', 'Movie ID': '193800', 'Tag': 'Love Triangle', 'Time Stamp': '1503844270'}\n",
    "my_tag_7 = {'User ID': '690', 'Movie ID': '193800', 'Tag': 'Crying', 'Time Stamp': '1622844270'}\n",
    "my_tag_8 = {'User ID': '690', 'Movie ID': '193800', 'Tag': 'Feel Good', 'Time Stamp': '1475824270'}\n",
    "my_tag_9 = {'User ID': '690', 'Movie ID': '193800', 'Tag': 'Best Movie', 'Time Stamp': '1424564270'}\n",
    "\n",
    "my_tag_10 = {'User ID': '690', 'Movie ID': '193900', 'Tag': 'Funny', 'Time Stamp': '1687844270'}\n",
    "my_tag_11 = {'User ID': '690', 'Movie ID': '193900', 'Tag': 'Sad', 'Time Stamp': '1493533270'}\n",
    "my_tag_12 = {'User ID': '690', 'Movie ID': '193900', 'Tag': 'Aamir Khan', 'Time Stamp': '1930844270'}\n",
    "my_tag_13 = {'User ID': '690', 'Movie ID': '193900', 'Tag': 'Kajol', 'Time Stamp': '1496664270'}\n",
    "my_tag_14 = {'User ID': '690', 'Movie ID': '193900', 'Tag': 'Blind Love', 'Time Stamp': '1473844270'}\n",
    "my_tag_15 = {'User ID': '690', 'Movie ID': '193900', 'Tag': 'Crying', 'Time Stamp': '1493934270'}\n",
    "\n",
    "my_tag_16 = {'User ID': '690', 'Movie ID': '194000', 'Tag': 'Sad', 'Time Stamp': '1473144270'}\n",
    "my_tag_17 = {'User ID': '690', 'Movie ID': '194000', 'Tag': 'Feel Good', 'Time Stamp': '1474244270'}\n",
    "\n",
    "my_tag_18 = {'User ID': '690', 'Movie ID': '194100', 'Tag': 'Hilarious', 'Time Stamp': '1479964270'}\n",
    "my_tag_19 = {'User ID': '690', 'Movie ID': '194100', 'Tag': 'Sequel', 'Time Stamp': '1493640270'}\n",
    "my_tag_20 = {'User ID': '690', 'Movie ID': '194100', 'Tag': 'Funny', 'Time Stamp': '1493000070'}\n",
    "\n",
    "tags_list = [my_tag_1, my_tag_2, my_tag_3, my_tag_4, my_tag_5, my_tag_6, my_tag_7, my_tag_8, my_tag_9, my_tag_10, \n",
    "             my_tag_11, my_tag_12, my_tag_13, my_tag_14, my_tag_15, my_tag_16, my_tag_17, my_tag_18, my_tag_19, my_tag_20]\n",
    "\n",
    "for item in tags_list:\n",
    "    tags_collection.insert_one(item)"
   ]
  },
  {
   "cell_type": "code",
   "execution_count": 13,
   "id": "e4827d5b",
   "metadata": {},
   "outputs": [
    {
     "name": "stdout",
     "output_type": "stream",
     "text": [
      "UserID: 690\n",
      "Movie ID: 193700\n",
      "Tag: Love Story\n",
      "Time Stamp: 1493855270\n"
     ]
    }
   ],
   "source": [
    "# Printing the tags for the first movie I added in the tags collection to show its in the database.\n",
    "tags_1 = tags_collection.find_one({\"Movie ID\": \"193700\"})\n",
    "\n",
    "print(\"UserID:\", tags_1[\"User ID\"])\n",
    "print(\"Movie ID:\", tags_1[\"Movie ID\"]) \n",
    "print(\"Tag:\", tags_1[\"Tag\"])\n",
    "print(\"Time Stamp:\", tags_1[\"Time Stamp\"])"
   ]
  },
  {
   "cell_type": "markdown",
   "id": "779fe0b4",
   "metadata": {},
   "source": [
    "## Using Aggregation Pipeline"
   ]
  },
  {
   "cell_type": "markdown",
   "id": "07d9a635",
   "metadata": {},
   "source": [
    "## Code to find the number of movies released per year"
   ]
  },
  {
   "cell_type": "code",
   "execution_count": 14,
   "id": "9d2a8759",
   "metadata": {
    "scrolled": false
   },
   "outputs": [
    {
     "name": "stdout",
     "output_type": "stream",
     "text": [
      "Year: (2002), Number of Movies: 311\n",
      "Year: (2006), Number of Movies: 297\n",
      "Year: (2001), Number of Movies: 295\n",
      "Year: (2007), Number of Movies: 285\n",
      "Year: (2000), Number of Movies: 283\n",
      "Year: (2009), Number of Movies: 282\n",
      "Year: (2003), Number of Movies: 280\n",
      "Year: (2004), Number of Movies: 279\n",
      "Year: (2014), Number of Movies: 278\n",
      "Year: (1996), Number of Movies: 276\n",
      "Year: (2015), Number of Movies: 274\n",
      "Year: (2005), Number of Movies: 273\n",
      "Year: (2008), Number of Movies: 269\n",
      "Year: (1999), Number of Movies: 263\n",
      "Year: (1997), Number of Movies: 260\n",
      "Year: (1995), Number of Movies: 259\n",
      "Year: (1998), Number of Movies: 258\n",
      "Year: (2011), Number of Movies: 254\n",
      "Year: (2010), Number of Movies: 247\n",
      "Year: (2013), Number of Movies: 239\n",
      "Year: (1994), Number of Movies: 237\n",
      "Year: (2012), Number of Movies: 233\n",
      "Year: (2016), Number of Movies: 218\n",
      "Year: (1993), Number of Movies: 198\n",
      "Year: (1992), Number of Movies: 167\n",
      "Year: (1988), Number of Movies: 165\n",
      "Year: (1987), Number of Movies: 153\n",
      "Year: (1991), Number of Movies: 147\n",
      "Year: (1990), Number of Movies: 147\n",
      "Year: (2017), Number of Movies: 147\n",
      "Year: (1989), Number of Movies: 142\n",
      "Year: (1986), Number of Movies: 139\n",
      "Year: (1985), Number of Movies: 126\n",
      "Year: (1984), Number of Movies: 101\n",
      "Year: (1981), Number of Movies: 92\n",
      "Year: (1980), Number of Movies: 89\n",
      "Year: (1982), Number of Movies: 87\n",
      "Year: (1983), Number of Movies: 83\n",
      "Year: (1979), Number of Movies: 69\n",
      "Year: (1977), Number of Movies: 63\n",
      "Year: (1978), Number of Movies: 59\n",
      "Year: (1973), Number of Movies: 59\n",
      "Year: (1971), Number of Movies: 47\n",
      "Year: (1965), Number of Movies: 47\n",
      "Year: (1974), Number of Movies: 45\n",
      "Year: (1976), Number of Movies: 44\n",
      "Year: (1964), Number of Movies: 43\n",
      "Year: (1968), Number of Movies: 42\n",
      "Year: (1967), Number of Movies: 42\n",
      "Year: (1966), Number of Movies: 42\n",
      "Year: (1975), Number of Movies: 42\n",
      "Year: (2018), Number of Movies: 41\n",
      "Year: (1962), Number of Movies: 40\n",
      "Year: (1972), Number of Movies: 39\n",
      "Year: (1963), Number of Movies: 39\n",
      "Year: (1960), Number of Movies: 37\n",
      "Year: (1959), Number of Movies: 37\n",
      "Year: (1955), Number of Movies: 36\n",
      "Year: (1969), Number of Movies: 35\n",
      "Year: (1961), Number of Movies: 34\n",
      "Year: (1970), Number of Movies: 33\n",
      "Year: (1957), Number of Movies: 33\n",
      "Year: (1958), Number of Movies: 31\n",
      "Year: (1953), Number of Movies: 30\n",
      "Year: (1956), Number of Movies: 30\n",
      "Year: (1949), Number of Movies: 25\n",
      "Year: (1940), Number of Movies: 25\n",
      "Year: (1946), Number of Movies: 23\n",
      "Year: (1954), Number of Movies: 23\n",
      "Year: (1939), Number of Movies: 23\n",
      "Year: (1942), Number of Movies: 23\n",
      "Year: (1951), Number of Movies: 22\n",
      "Year: (1950), Number of Movies: 21\n",
      "Year: (1948), Number of Movies: 20\n",
      "Year: (1947), Number of Movies: 20\n",
      "Year: (1936), Number of Movies: 18\n",
      "Year: (1941), Number of Movies: 18\n",
      "Year: (1945), Number of Movies: 17\n",
      "Year: (1944), Number of Movies: 16\n",
      "Year: (1937), Number of Movies: 16\n",
      "Year: (1952), Number of Movies: 16\n",
      "Year: (1938), Number of Movies: 15\n",
      "Year: (1931), Number of Movies: 14\n",
      "Year: (1935), Number of Movies: 13\n",
      "Year: None, Number of Movies: 13\n",
      "Year: (1933), Number of Movies: 12\n",
      "Year: (1934), Number of Movies: 11\n",
      "Year: (1943), Number of Movies: 10\n",
      "Year: (1932), Number of Movies: 9\n",
      "Year: (1927), Number of Movies: 7\n",
      "Year: (1924), Number of Movies: 5\n",
      "Year: (1930), Number of Movies: 5\n",
      "Year: (1926), Number of Movies: 5\n",
      "Year: (1925), Number of Movies: 4\n",
      "Year: (1916), Number of Movies: 4\n",
      "Year: (1923), Number of Movies: 4\n",
      "Year: (1929), Number of Movies: 4\n",
      "Year: (1928), Number of Movies: 4\n",
      "Year: (1920), Number of Movies: 2\n",
      "Year: (1908), Number of Movies: 1\n",
      "Year: (1917), Number of Movies: 1\n",
      "Year: (1903), Number of Movies: 1\n",
      "Year: (1922), Number of Movies: 1\n",
      "Year: (1921), Number of Movies: 1\n",
      "Year: (1902), Number of Movies: 1\n",
      "Year: (1919), Number of Movies: 1\n",
      "Year: (1915), Number of Movies: 1\n"
     ]
    }
   ],
   "source": [
    "# Aggregation pipeline to group by year and count the number of movies\n",
    "pipeline = [\n",
    "    {'$addFields': {'Year': {'$regexFind': {'input': \"$Title\", 'regex': r'\\((\\d{4})\\)'}}}}, \n",
    "    {'$group': {'_id': '$Year.match', 'count': {'$sum': 1}}},\n",
    "    {'$sort': {'count': -1}}\n",
    "]\n",
    "\n",
    "# Execute the aggregation pipeline\n",
    "result = list(movies_collection.aggregate(pipeline))\n",
    "\n",
    "# Display the result\n",
    "for entry in result:\n",
    "    print(f\"Year: {entry['_id']}, Number of Movies: {entry['count']}\")"
   ]
  },
  {
   "cell_type": "markdown",
   "id": "e44a638e",
   "metadata": {},
   "source": [
    "## Code to find the number of movies per genre"
   ]
  },
  {
   "cell_type": "code",
   "execution_count": 15,
   "id": "ecb15830",
   "metadata": {},
   "outputs": [
    {
     "name": "stdout",
     "output_type": "stream",
     "text": [
      "Genre: Drama, Number of Movies: 4363\n",
      "Genre: Comedy, Number of Movies: 3760\n",
      "Genre: Thriller, Number of Movies: 1896\n",
      "Genre: Action, Number of Movies: 1828\n",
      "Genre: Romance, Number of Movies: 1599\n",
      "Genre: Adventure, Number of Movies: 1263\n",
      "Genre: Crime, Number of Movies: 1199\n",
      "Genre: Sci-Fi, Number of Movies: 980\n",
      "Genre: Horror, Number of Movies: 978\n",
      "Genre: Fantasy, Number of Movies: 779\n",
      "Genre: Children, Number of Movies: 664\n",
      "Genre: Animation, Number of Movies: 611\n",
      "Genre: Mystery, Number of Movies: 573\n",
      "Genre: Documentary, Number of Movies: 440\n",
      "Genre: War, Number of Movies: 382\n",
      "Genre: Musical, Number of Movies: 334\n",
      "Genre: Western, Number of Movies: 167\n",
      "Genre: IMAX, Number of Movies: 158\n",
      "Genre: Film-Noir, Number of Movies: 87\n",
      "Genre: (no genres listed), Number of Movies: 34\n",
      "Genre: Crime Fiction, Number of Movies: 2\n",
      "Genre: Family Drama, Number of Movies: 1\n",
      "Genre: Tragedy, Number of Movies: 1\n",
      "Genre: Melodrama, Number of Movies: 1\n",
      "Genre: Children's Film, Number of Movies: 1\n"
     ]
    }
   ],
   "source": [
    "# Aggregation pipeline to split genres, unwind, and then group by genre\n",
    "pipeline = [\n",
    "    {'$project': {'Genres': {'$split': [\"$Genres\", \"|\"]}}}, \n",
    "    {'$unwind': '$Genres'},\n",
    "    {'$group': {'_id': '$Genres', 'count': {'$sum': 1}}},\n",
    "    {'$sort': {'count': -1}}\n",
    "]\n",
    "\n",
    "# Execute the aggregation pipeline\n",
    "result = list(movies_collection.aggregate(pipeline))\n",
    "\n",
    "# Display the result\n",
    "for entry in result:\n",
    "    print(f\"Genre: {entry['_id']}, Number of Movies: {entry['count']}\")"
   ]
  },
  {
   "cell_type": "markdown",
   "id": "af264971",
   "metadata": {},
   "source": [
    "## Code to find the number of movies per rating"
   ]
  },
  {
   "cell_type": "code",
   "execution_count": 16,
   "id": "412033cb",
   "metadata": {},
   "outputs": [
    {
     "name": "stdout",
     "output_type": "stream",
     "text": [
      "Rating: 5.0, Number of Movies: 5\n",
      "Rating: 5.0, Number of Movies: 2954\n",
      "Rating: 4.5, Number of Movies: 2710\n",
      "Rating: 4.0, Number of Movies: 5109\n",
      "Rating: 3.5, Number of Movies: 4216\n",
      "Rating: 3.0, Number of Movies: 4986\n",
      "Rating: 2.5, Number of Movies: 2925\n",
      "Rating: 2.0, Number of Movies: 3339\n",
      "Rating: 1.5, Number of Movies: 1386\n",
      "Rating: 1.0, Number of Movies: 1726\n",
      "Rating: 0.5, Number of Movies: 1066\n"
     ]
    }
   ],
   "source": [
    "# Aggregation pipeline to group by rating and count the number of unique movies\n",
    "pipeline = [\n",
    "    {'$group': {'_id': '$Rating', 'uniqueMovies': {'$addToSet': '$Movie ID'}}},\n",
    "    {'$project': {'rating': '$_id', 'numberOfMovies': {'$size': '$uniqueMovies'}}},\n",
    "    {'$sort': {'rating': -1}}\n",
    "]\n",
    "\n",
    "# Execute the aggregation pipeline\n",
    "result = list(ratings_collection.aggregate(pipeline))\n",
    "\n",
    "# Display the result\n",
    "for entry in result:\n",
    "    print(f\"Rating: {entry['rating']}, Number of Movies: {entry['numberOfMovies']}\")"
   ]
  },
  {
   "cell_type": "markdown",
   "id": "b5fafa90",
   "metadata": {},
   "source": [
    "## Code to find the number of movies tagged"
   ]
  },
  {
   "cell_type": "code",
   "execution_count": 17,
   "id": "f8b116ed",
   "metadata": {},
   "outputs": [
    {
     "name": "stdout",
     "output_type": "stream",
     "text": [
      "Number of Movies Tagged: 1577\n"
     ]
    }
   ],
   "source": [
    "# Aggregation pipeline to count the number of unique movies with tags\n",
    "pipeline = [\n",
    "    {'$group': {'_id': '$Movie ID'}},\n",
    "    {'$count': 'numberOfMovies'}\n",
    "]\n",
    "\n",
    "# Execute the aggregation pipeline\n",
    "result = list(tags_collection.aggregate(pipeline))\n",
    "\n",
    "# The result will be a list with a single document\n",
    "if result:\n",
    "    print(f\"Number of Movies Tagged: {result[0]['numberOfMovies']}\")\n",
    "else:\n",
    "    print(\"No tagged movies found.\")"
   ]
  },
  {
   "cell_type": "markdown",
   "id": "6ac7f9e2",
   "metadata": {},
   "source": [
    "## Code to find the most popular tag"
   ]
  },
  {
   "cell_type": "code",
   "execution_count": 19,
   "id": "2915fd3c",
   "metadata": {},
   "outputs": [
    {
     "name": "stdout",
     "output_type": "stream",
     "text": [
      "Most Popular Tag: In Netflix queue, Count: 131\n"
     ]
    }
   ],
   "source": [
    "# Aggregation pipeline to find the most popular tag\n",
    "pipeline = [\n",
    "    {'$group': {'_id': '$Tag', 'count': {'$sum': 1}}},\n",
    "    {'$sort': {'count': -1}},\n",
    "    {'$limit': 1}\n",
    "]\n",
    "\n",
    "# Execute the aggregation pipeline\n",
    "result = list(tags_collection.aggregate(pipeline))\n",
    "\n",
    "# Display the most popular tag\n",
    "if result:\n",
    "    print(f\"Most Popular Tag: {result[0]['_id']}, Count: {result[0]['count']}\")\n",
    "else:\n",
    "    print(\"No tags found.\")"
   ]
  }
 ],
 "metadata": {
  "kernelspec": {
   "display_name": "Python 3 (ipykernel)",
   "language": "python",
   "name": "python3"
  },
  "language_info": {
   "codemirror_mode": {
    "name": "ipython",
    "version": 3
   },
   "file_extension": ".py",
   "mimetype": "text/x-python",
   "name": "python",
   "nbconvert_exporter": "python",
   "pygments_lexer": "ipython3",
   "version": "3.9.13"
  }
 },
 "nbformat": 4,
 "nbformat_minor": 5
}
