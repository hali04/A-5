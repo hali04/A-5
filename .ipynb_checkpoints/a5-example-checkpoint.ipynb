{
 "cells": [
  {
   "cell_type": "code",
   "execution_count": 1,
   "id": "809c33c6",
   "metadata": {},
   "outputs": [
    {
     "name": "stdout",
     "output_type": "stream",
     "text": [
      "Requirement already satisfied: pymongo in c:\\users\\hasan\\anaconda3\\lib\\site-packages (4.6.1)\n",
      "Requirement already satisfied: dnspython<3.0.0,>=1.16.0 in c:\\users\\hasan\\anaconda3\\lib\\site-packages (from pymongo) (2.4.2)\n"
     ]
    }
   ],
   "source": [
    "#The following command resets the environment\n",
    "from IPython.core.display import HTML\n",
    "HTML(\"<script>Jupyter.notebook.kernel.restart()</script>\")\n",
    "#!pip install pymongo\n",
    "!python -m pip install pymongo"
   ]
  },
  {
   "cell_type": "code",
   "execution_count": 2,
   "id": "2704c428",
   "metadata": {},
   "outputs": [],
   "source": [
    "from pymongo import MongoClient\n",
    "import pprint\n",
    "import pymongo\n",
    "import pandas as pd\n",
    "import datetime\n",
    "from bson.code import Code"
   ]
  },
  {
   "cell_type": "code",
   "execution_count": 3,
   "id": "b3eca9db",
   "metadata": {},
   "outputs": [],
   "source": [
    "try:\n",
    "    client = MongoClient(\"mongodb://localhost:27017/\")\n",
    "    client.drop_database(\"Mongo_database\")\n",
    "except Exception as e:\n",
    "    print(e)"
   ]
  },
  {
   "cell_type": "code",
   "execution_count": 4,
   "id": "1b190e9c",
   "metadata": {},
   "outputs": [],
   "source": [
    "try:\n",
    "    #Create database\n",
    "    db=client.get_database(\"Mongo_database\")\n",
    "except Exception as e:\n",
    "    print(e)\n",
    " "
   ]
  },
  {
   "cell_type": "code",
   "execution_count": 5,
   "id": "c169fab1",
   "metadata": {},
   "outputs": [
    {
     "data": {
      "text/plain": [
       "[]"
      ]
     },
     "execution_count": 5,
     "metadata": {},
     "output_type": "execute_result"
    }
   ],
   "source": [
    "#this would list an empty list, since no data in the collection\n",
    "db.list_collection_names()"
   ]
  },
  {
   "cell_type": "code",
   "execution_count": 6,
   "id": "a4ec1a6a",
   "metadata": {},
   "outputs": [
    {
     "data": {
      "text/plain": [
       "[]"
      ]
     },
     "execution_count": 6,
     "metadata": {},
     "output_type": "execute_result"
    }
   ],
   "source": [
    "#create a collection myMovies\n",
    "myMovies = db['myMovies']\n",
    "db.list_collection_names()"
   ]
  },
  {
   "cell_type": "code",
   "execution_count": 7,
   "id": "c0058eea",
   "metadata": {},
   "outputs": [
    {
     "data": {
      "text/plain": [
       "InsertOneResult(ObjectId('6569730efa5712fcbc50f876'), acknowledged=True)"
      ]
     },
     "execution_count": 7,
     "metadata": {},
     "output_type": "execute_result"
    }
   ],
   "source": [
    "db.myMovies.insert_one({\"name\":\"Harry Potter\", \"genre\": \"Fiction\", \"rating\": \"90\"})\n",
    "db.myMovies.insert_one({ \"name\": \"Minions\", \"genre\": \"Animation\", \"rating\": \"96\"}) \n",
    "db.myMovies.insert_one({ \"name\": \"The Grinch\", \"genre\": \"Comedy\", \"rating\": \"83\"}) \n",
    "db.myMovies.insert_one({ \"name\": \"Star War\", \"genre\": \"Sci-Fic\", \"rating\": \"95\"})\n",
    "db.myMovies.insert_one({ \"name\": \"Mission Impossible\", \"genre\": \"Action\", \"rating\": \"78\"})\n",
    "\n",
    "# OR alternatively,\n",
    "\n",
    "# movie_list = [\n",
    "#     {\"name\":\"Harry Potter\", \"genre\": \"Fiction\", \"rating\": \"90\"},\n",
    "#     { \"name\": \"Minions\", \"genre\": \"Animation\", \"rating\": \"96\"},\n",
    "#     { \"name\": \"The Grinch\", \"genre\": \"Comedy\", \"rating\": \"83\"},\n",
    "#     { \"name\": \"Star War\", \"genre\": \"Sci-Fic\", \"rating\": \"95\"},\n",
    "#     { \"name\": \"Mission Impossible\", \"genre\": \"Action\", \"rating\": \"78\"}\n",
    "# ]\n",
    "# db.movies.insert_many(movie_list)"
   ]
  },
  {
   "cell_type": "code",
   "execution_count": 8,
   "id": "44d0ee1f",
   "metadata": {},
   "outputs": [
    {
     "data": {
      "text/plain": [
       "['myMovies']"
      ]
     },
     "execution_count": 8,
     "metadata": {},
     "output_type": "execute_result"
    }
   ],
   "source": [
    "db.list_collection_names()"
   ]
  },
  {
   "cell_type": "markdown",
   "id": "7c8220df",
   "metadata": {},
   "source": [
    " "
   ]
  },
  {
   "cell_type": "code",
   "execution_count": 9,
   "id": "bcecc31c",
   "metadata": {},
   "outputs": [
    {
     "name": "stdout",
     "output_type": "stream",
     "text": [
      "{'_id': ObjectId('6569730dfa5712fcbc50f872'),\n",
      " 'genre': 'Fiction',\n",
      " 'name': 'Harry Potter',\n",
      " 'rating': '90'}\n",
      "{'_id': ObjectId('6569730efa5712fcbc50f873'),\n",
      " 'genre': 'Animation',\n",
      " 'name': 'Minions',\n",
      " 'rating': '96'}\n",
      "{'_id': ObjectId('6569730efa5712fcbc50f874'),\n",
      " 'genre': 'Comedy',\n",
      " 'name': 'The Grinch',\n",
      " 'rating': '83'}\n",
      "{'_id': ObjectId('6569730efa5712fcbc50f875'),\n",
      " 'genre': 'Sci-Fic',\n",
      " 'name': 'Star War',\n",
      " 'rating': '95'}\n",
      "{'_id': ObjectId('6569730efa5712fcbc50f876'),\n",
      " 'genre': 'Action',\n",
      " 'name': 'Mission Impossible',\n",
      " 'rating': '78'}\n"
     ]
    }
   ],
   "source": [
    "for movie in myMovies.find():\n",
    "    pprint.pprint(movie)"
   ]
  },
  {
   "cell_type": "code",
   "execution_count": 10,
   "id": "0ffa2e68",
   "metadata": {},
   "outputs": [
    {
     "name": "stdout",
     "output_type": "stream",
     "text": [
      "{'_id': ObjectId('6569730efa5712fcbc50f875'),\n",
      " 'genre': 'Sci-Fic',\n",
      " 'name': 'Star War',\n",
      " 'rating': '95'}\n"
     ]
    }
   ],
   "source": [
    "pprint.pprint(myMovies.find_one({\"name\": \"Star War\"}))"
   ]
  },
  {
   "cell_type": "code",
   "execution_count": 11,
   "id": "8d10f602",
   "metadata": {},
   "outputs": [
    {
     "name": "stdout",
     "output_type": "stream",
     "text": [
      "{'_id': ObjectId('6569730efa5712fcbc50f873'),\n",
      " 'genre': 'Animation',\n",
      " 'name': 'Minions',\n",
      " 'rating': '96'}\n",
      "{'_id': ObjectId('6569730efa5712fcbc50f875'),\n",
      " 'genre': 'Sci-Fic',\n",
      " 'name': 'Star War',\n",
      " 'rating': '95'}\n",
      "{'_id': ObjectId('6569730dfa5712fcbc50f872'),\n",
      " 'genre': 'Fiction',\n",
      " 'name': 'Harry Potter',\n",
      " 'rating': '90'}\n"
     ]
    }
   ],
   "source": [
    "top_movies = db.myMovies.find().limit(3).sort('rating', -1)\n",
    "for movie in top_movies:\n",
    "    pprint.pprint(movie)"
   ]
  },
  {
   "cell_type": "markdown",
   "id": "7ba9697a",
   "metadata": {},
   "source": [
    " "
   ]
  },
  {
   "cell_type": "markdown",
   "id": "5abf5d30",
   "metadata": {},
   "source": [
    "##### Add 'review' attribute and its value to 2 of the movies"
   ]
  },
  {
   "cell_type": "code",
   "execution_count": 12,
   "id": "153786ef",
   "metadata": {},
   "outputs": [
    {
     "name": "stdout",
     "output_type": "stream",
     "text": [
      "{'_id': ObjectId('6569730efa5712fcbc50f873'),\n",
      " 'genre': 'Animation',\n",
      " 'name': 'Minions',\n",
      " 'rating': '96',\n",
      " 'review': 'minion moview review'}\n"
     ]
    }
   ],
   "source": [
    "movie = db.myMovies.find_one({'name':\"Minions\"})\n",
    "movie['review'] = \"minion moview review\"\n",
    "db.myMovies.replace_one({'name':\"Minions\"}, movie)\n",
    "pprint.pprint(myMovies.find_one({\"name\": \"Minions\"}))"
   ]
  },
  {
   "cell_type": "code",
   "execution_count": 13,
   "id": "2e280c99",
   "metadata": {},
   "outputs": [
    {
     "name": "stdout",
     "output_type": "stream",
     "text": [
      "{'_id': ObjectId('6569730efa5712fcbc50f875'),\n",
      " 'genre': 'Sci-Fic',\n",
      " 'name': 'Star War',\n",
      " 'rating': '95',\n",
      " 'review': 'star war amazing science fiction movie'}\n"
     ]
    }
   ],
   "source": [
    "try:\n",
    "    movie = db.myMovies.find_one({'name':\"Star War\"})\n",
    "    movie['review'] = \"star war amazing science fiction movie\"\n",
    "    db.myMovies.replace_one({'name':\"Star War\"}, movie)\n",
    "    pprint.pprint(myMovies.find_one({\"name\": \"Star War\"}))\n",
    "except Exception as e:\n",
    "    print(e)"
   ]
  },
  {
   "cell_type": "markdown",
   "id": "c026c3d4",
   "metadata": {},
   "source": [
    "#### Update 'rating' of one of the movie"
   ]
  },
  {
   "cell_type": "code",
   "execution_count": 14,
   "id": "ffa66b87",
   "metadata": {},
   "outputs": [
    {
     "name": "stdout",
     "output_type": "stream",
     "text": [
      "{'_id': ObjectId('6569730efa5712fcbc50f876'),\n",
      " 'genre': 'Action',\n",
      " 'name': 'Mission Impossible',\n",
      " 'rating': '100'}\n"
     ]
    }
   ],
   "source": [
    "movie = db.myMovies.find_one({'name':\"Mission Impossible\"})\n",
    "movie['rating'] = \"100\"\n",
    "db.myMovies.replace_one({'name':\"Mission Impossible\"}, movie)\n",
    "pprint.pprint(myMovies.find_one({\"name\": \"Mission Impossible\"}))"
   ]
  },
  {
   "cell_type": "markdown",
   "id": "59ee7ac0",
   "metadata": {},
   "source": [
    " "
   ]
  },
  {
   "cell_type": "code",
   "execution_count": null,
   "id": "5600a62d",
   "metadata": {},
   "outputs": [],
   "source": []
  }
 ],
 "metadata": {
  "kernelspec": {
   "display_name": "Python 3 (ipykernel)",
   "language": "python",
   "name": "python3"
  },
  "language_info": {
   "codemirror_mode": {
    "name": "ipython",
    "version": 3
   },
   "file_extension": ".py",
   "mimetype": "text/x-python",
   "name": "python",
   "nbconvert_exporter": "python",
   "pygments_lexer": "ipython3",
   "version": "3.9.13"
  }
 },
 "nbformat": 4,
 "nbformat_minor": 5
}
